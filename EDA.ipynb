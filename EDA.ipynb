{
 "cells": [
  {
   "cell_type": "code",
   "execution_count": 1,
   "metadata": {},
   "outputs": [],
   "source": [
    "import numpy as numpy\n",
    "import pandas as pd"
   ]
  },
  {
   "cell_type": "code",
   "execution_count": 2,
   "metadata": {},
   "outputs": [],
   "source": [
    "data_path = \"D:\\VIT\\SEM-7\\B2 - NLP\\Project\\Code\\curation-corpus-master\\output.csv\""
   ]
  },
  {
   "cell_type": "code",
   "execution_count": 3,
   "metadata": {},
   "outputs": [
    {
     "data": {
      "text/html": [
       "<div>\n",
       "<style scoped>\n",
       "    .dataframe tbody tr th:only-of-type {\n",
       "        vertical-align: middle;\n",
       "    }\n",
       "\n",
       "    .dataframe tbody tr th {\n",
       "        vertical-align: top;\n",
       "    }\n",
       "\n",
       "    .dataframe thead th {\n",
       "        text-align: right;\n",
       "    }\n",
       "</style>\n",
       "<table border=\"1\" class=\"dataframe\">\n",
       "  <thead>\n",
       "    <tr style=\"text-align: right;\">\n",
       "      <th></th>\n",
       "      <th>title</th>\n",
       "      <th>summary</th>\n",
       "      <th>url</th>\n",
       "      <th>date</th>\n",
       "      <th>article_content</th>\n",
       "    </tr>\n",
       "  </thead>\n",
       "  <tbody>\n",
       "    <tr>\n",
       "      <th>0</th>\n",
       "      <td>Tencent gains approval to sell mutual funds to...</td>\n",
       "      <td>Tencent has been granted a licence from the Ch...</td>\n",
       "      <td>http://www.scmp.com/business/companies/article...</td>\n",
       "      <td>2018-01-04 11:49:58.900000</td>\n",
       "      <td>Traditional finance houses now being seriously...</td>\n",
       "    </tr>\n",
       "    <tr>\n",
       "      <th>1</th>\n",
       "      <td>India testing blockchains in education, health...</td>\n",
       "      <td>India is testing blockchain applications in ed...</td>\n",
       "      <td>https://www.vccircle.com/niti-aayog-explores-b...</td>\n",
       "      <td>2018-01-04 11:33:08.257000</td>\n",
       "      <td>The Indian government's policy think tank, Nit...</td>\n",
       "    </tr>\n",
       "    <tr>\n",
       "      <th>2</th>\n",
       "      <td>Higher living wage risks robot takeover of low...</td>\n",
       "      <td>The UK Institute for Fiscal Studies has warned...</td>\n",
       "      <td>https://news.sky.com/story/ifs-living-wage-inc...</td>\n",
       "      <td>2018-01-04 11:32:10.223000</td>\n",
       "      <td>Increases in minimum wage levels risk raising ...</td>\n",
       "    </tr>\n",
       "    <tr>\n",
       "      <th>3</th>\n",
       "      <td>Regus WeWork may seek stock-market flotation t...</td>\n",
       "      <td>Co-working start-up WeWork may go public this ...</td>\n",
       "      <td>https://www.fool.com/investing/2018/01/03/will...</td>\n",
       "      <td>2018-01-04 11:31:59.617000</td>\n",
       "      <td>Depending on whom you ask, WeWork is either a ...</td>\n",
       "    </tr>\n",
       "    <tr>\n",
       "      <th>4</th>\n",
       "      <td>AMD poised to gain market share as Intel pound...</td>\n",
       "      <td>Intel has seen more than $11bn wiped off its m...</td>\n",
       "      <td>https://www.cnbc.com/2018/01/05/amd-is-big-win...</td>\n",
       "      <td>2018-01-04 11:17:13.277000</td>\n",
       "      <td>AMD is big winner from chip flaw fiasco as mor...</td>\n",
       "    </tr>\n",
       "  </tbody>\n",
       "</table>\n",
       "</div>"
      ],
      "text/plain": [
       "                                               title  \\\n",
       "0  Tencent gains approval to sell mutual funds to...   \n",
       "1  India testing blockchains in education, health...   \n",
       "2  Higher living wage risks robot takeover of low...   \n",
       "3  Regus WeWork may seek stock-market flotation t...   \n",
       "4  AMD poised to gain market share as Intel pound...   \n",
       "\n",
       "                                             summary  \\\n",
       "0  Tencent has been granted a licence from the Ch...   \n",
       "1  India is testing blockchain applications in ed...   \n",
       "2  The UK Institute for Fiscal Studies has warned...   \n",
       "3  Co-working start-up WeWork may go public this ...   \n",
       "4  Intel has seen more than $11bn wiped off its m...   \n",
       "\n",
       "                                                 url  \\\n",
       "0  http://www.scmp.com/business/companies/article...   \n",
       "1  https://www.vccircle.com/niti-aayog-explores-b...   \n",
       "2  https://news.sky.com/story/ifs-living-wage-inc...   \n",
       "3  https://www.fool.com/investing/2018/01/03/will...   \n",
       "4  https://www.cnbc.com/2018/01/05/amd-is-big-win...   \n",
       "\n",
       "                         date  \\\n",
       "0  2018-01-04 11:49:58.900000   \n",
       "1  2018-01-04 11:33:08.257000   \n",
       "2  2018-01-04 11:32:10.223000   \n",
       "3  2018-01-04 11:31:59.617000   \n",
       "4  2018-01-04 11:17:13.277000   \n",
       "\n",
       "                                     article_content  \n",
       "0  Traditional finance houses now being seriously...  \n",
       "1  The Indian government's policy think tank, Nit...  \n",
       "2  Increases in minimum wage levels risk raising ...  \n",
       "3  Depending on whom you ask, WeWork is either a ...  \n",
       "4  AMD is big winner from chip flaw fiasco as mor...  "
      ]
     },
     "execution_count": 3,
     "metadata": {},
     "output_type": "execute_result"
    }
   ],
   "source": [
    "df = pd.read_csv(data_path)\n",
    "df.head()"
   ]
  },
  {
   "cell_type": "code",
   "execution_count": 12,
   "metadata": {},
   "outputs": [
    {
     "data": {
      "text/html": [
       "<div>\n",
       "<style scoped>\n",
       "    .dataframe tbody tr th:only-of-type {\n",
       "        vertical-align: middle;\n",
       "    }\n",
       "\n",
       "    .dataframe tbody tr th {\n",
       "        vertical-align: top;\n",
       "    }\n",
       "\n",
       "    .dataframe thead th {\n",
       "        text-align: right;\n",
       "    }\n",
       "</style>\n",
       "<table border=\"1\" class=\"dataframe\">\n",
       "  <thead>\n",
       "    <tr style=\"text-align: right;\">\n",
       "      <th></th>\n",
       "      <th>title</th>\n",
       "      <th>summary</th>\n",
       "      <th>url</th>\n",
       "      <th>article_content</th>\n",
       "    </tr>\n",
       "  </thead>\n",
       "  <tbody>\n",
       "    <tr>\n",
       "      <th>0</th>\n",
       "      <td>Tencent gains approval to sell mutual funds to...</td>\n",
       "      <td>Tencent has been granted a licence from the Ch...</td>\n",
       "      <td>http://www.scmp.com/business/companies/article...</td>\n",
       "      <td>Traditional finance houses now being seriously...</td>\n",
       "    </tr>\n",
       "    <tr>\n",
       "      <th>1</th>\n",
       "      <td>India testing blockchains in education, health...</td>\n",
       "      <td>India is testing blockchain applications in ed...</td>\n",
       "      <td>https://www.vccircle.com/niti-aayog-explores-b...</td>\n",
       "      <td>The Indian government's policy think tank, Nit...</td>\n",
       "    </tr>\n",
       "    <tr>\n",
       "      <th>2</th>\n",
       "      <td>Higher living wage risks robot takeover of low...</td>\n",
       "      <td>The UK Institute for Fiscal Studies has warned...</td>\n",
       "      <td>https://news.sky.com/story/ifs-living-wage-inc...</td>\n",
       "      <td>Increases in minimum wage levels risk raising ...</td>\n",
       "    </tr>\n",
       "    <tr>\n",
       "      <th>3</th>\n",
       "      <td>Regus WeWork may seek stock-market flotation t...</td>\n",
       "      <td>Co-working start-up WeWork may go public this ...</td>\n",
       "      <td>https://www.fool.com/investing/2018/01/03/will...</td>\n",
       "      <td>Depending on whom you ask, WeWork is either a ...</td>\n",
       "    </tr>\n",
       "    <tr>\n",
       "      <th>4</th>\n",
       "      <td>AMD poised to gain market share as Intel pound...</td>\n",
       "      <td>Intel has seen more than $11bn wiped off its m...</td>\n",
       "      <td>https://www.cnbc.com/2018/01/05/amd-is-big-win...</td>\n",
       "      <td>AMD is big winner from chip flaw fiasco as mor...</td>\n",
       "    </tr>\n",
       "  </tbody>\n",
       "</table>\n",
       "</div>"
      ],
      "text/plain": [
       "                                               title  \\\n",
       "0  Tencent gains approval to sell mutual funds to...   \n",
       "1  India testing blockchains in education, health...   \n",
       "2  Higher living wage risks robot takeover of low...   \n",
       "3  Regus WeWork may seek stock-market flotation t...   \n",
       "4  AMD poised to gain market share as Intel pound...   \n",
       "\n",
       "                                             summary  \\\n",
       "0  Tencent has been granted a licence from the Ch...   \n",
       "1  India is testing blockchain applications in ed...   \n",
       "2  The UK Institute for Fiscal Studies has warned...   \n",
       "3  Co-working start-up WeWork may go public this ...   \n",
       "4  Intel has seen more than $11bn wiped off its m...   \n",
       "\n",
       "                                                 url  \\\n",
       "0  http://www.scmp.com/business/companies/article...   \n",
       "1  https://www.vccircle.com/niti-aayog-explores-b...   \n",
       "2  https://news.sky.com/story/ifs-living-wage-inc...   \n",
       "3  https://www.fool.com/investing/2018/01/03/will...   \n",
       "4  https://www.cnbc.com/2018/01/05/amd-is-big-win...   \n",
       "\n",
       "                                     article_content  \n",
       "0  Traditional finance houses now being seriously...  \n",
       "1  The Indian government's policy think tank, Nit...  \n",
       "2  Increases in minimum wage levels risk raising ...  \n",
       "3  Depending on whom you ask, WeWork is either a ...  \n",
       "4  AMD is big winner from chip flaw fiasco as mor...  "
      ]
     },
     "execution_count": 12,
     "metadata": {},
     "output_type": "execute_result"
    }
   ],
   "source": [
    "df_1 = df.drop(\"date\",axis=1)\n",
    "df_1.dropna(inplace=True)\n",
    "df_1.head()"
   ]
  },
  {
   "cell_type": "code",
   "execution_count": 13,
   "metadata": {},
   "outputs": [
    {
     "name": "stdout",
     "output_type": "stream",
     "text": [
      "Number of records:  37639\n"
     ]
    }
   ],
   "source": [
    "print(\"Number of records: \", len(df_1))"
   ]
  },
  {
   "cell_type": "code",
   "execution_count": 14,
   "metadata": {},
   "outputs": [
    {
     "name": "stdout",
     "output_type": "stream",
     "text": [
      "Null records:\n",
      " title              0\n",
      "summary            0\n",
      "url                0\n",
      "article_content    0\n",
      "dtype: int64\n"
     ]
    }
   ],
   "source": [
    "print(\"Null records:\\n\", df_1.isnull().sum(axis = 0))"
   ]
  },
  {
   "cell_type": "code",
   "execution_count": null,
   "metadata": {},
   "outputs": [],
   "source": []
  }
 ],
 "metadata": {
  "interpreter": {
   "hash": "cf42f2bfeff635be0c30fde23fb8279f0258ebc834f04fa8a84a754aea3a3133"
  },
  "kernelspec": {
   "display_name": "Python 3.6.13 64-bit ('abstractive': conda)",
   "name": "python3"
  },
  "language_info": {
   "codemirror_mode": {
    "name": "ipython",
    "version": 3
   },
   "file_extension": ".py",
   "mimetype": "text/x-python",
   "name": "python",
   "nbconvert_exporter": "python",
   "pygments_lexer": "ipython3",
   "version": "3.6.13"
  },
  "orig_nbformat": 4
 },
 "nbformat": 4,
 "nbformat_minor": 2
}
